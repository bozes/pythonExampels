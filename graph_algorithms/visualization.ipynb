{
 "cells": [
  {
   "cell_type": "code",
   "execution_count": 7,
   "id": "53bf08e5",
   "metadata": {},
   "outputs": [],
   "source": [
    "from graphs import *\n",
    "from nx_tools import *\n",
    "from ipycytoscape_tools import *\n",
    "\n",
    "EXAMPLE = {\n",
    "    'A': ['B', 'D'],\n",
    "    'B': ['A'],\n",
    "    'C': ['A'],\n",
    "    'D': ['B', 'asdasdasdasdasadE'],\n",
    "    'asdasdasdasdasadE': []\n",
    "}\n",
    "\n",
    "stats = generate_statistics(EXAMPLE)\n",
    "instability = calculate_instability(EXAMPLE)\n",
    "violations = calculate_violations(EXAMPLE, instability)\n",
    "cycles = detect_all_cycles(EXAMPLE)\n",
    "in_edges, out_edges = extract_edge_numbers(EXAMPLE)"
   ]
  },
  {
   "cell_type": "code",
   "execution_count": 8,
   "id": "7cdb837e",
   "metadata": {},
   "outputs": [],
   "source": [
    "graph = dict_to_nx(EXAMPLE)\n",
    "update_nx_with_instability(graph, instability, in_edges)\n",
    "update_nx_with_cycles(graph, cycles)\n",
    "update_nx_with_violations(graph, violations)\n"
   ]
  },
  {
   "cell_type": "code",
   "execution_count": 11,
   "id": "505abbaf",
   "metadata": {},
   "outputs": [],
   "source": [
    "graph_cytoscape = ipycytoscape.CytoscapeWidget()\n",
    "graph_cytoscape.graph.add_graph_from_networkx(graph, directed=True)\n",
    "set_default_cytoscape_style(graph_cytoscape)\n"
   ]
  },
  {
   "cell_type": "code",
   "execution_count": null,
   "id": "d31a6fec",
   "metadata": {},
   "outputs": [],
   "source": []
  },
  {
   "cell_type": "code",
   "execution_count": 12,
   "id": "f6bf6c91",
   "metadata": {},
   "outputs": [
    {
     "data": {
      "application/vnd.jupyter.widget-view+json": {
       "model_id": "97619b4271794c4786fb2a7c2fcf31f5",
       "version_major": 2,
       "version_minor": 0
      },
      "text/plain": [
       "CytoscapeWidget(cytoscape_layout={'name': 'cola'}, cytoscape_style=[{'selector': 'node', 'style': {'font-famil…"
      ]
     },
     "execution_count": 12,
     "metadata": {},
     "output_type": "execute_result"
    }
   ],
   "source": [
    "graph_cytoscape"
   ]
  },
  {
   "cell_type": "code",
   "execution_count": null,
   "id": "9f604cea",
   "metadata": {},
   "outputs": [],
   "source": []
  }
 ],
 "metadata": {
  "kernelspec": {
   "display_name": "Python 3 (ipykernel)",
   "language": "python",
   "name": "python3"
  },
  "language_info": {
   "codemirror_mode": {
    "name": "ipython",
    "version": 3
   },
   "file_extension": ".py",
   "mimetype": "text/x-python",
   "name": "python",
   "nbconvert_exporter": "python",
   "pygments_lexer": "ipython3",
   "version": "3.10.0"
  }
 },
 "nbformat": 4,
 "nbformat_minor": 5
}
