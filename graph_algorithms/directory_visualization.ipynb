{
 "cells": [
  {
   "cell_type": "code",
   "execution_count": null,
   "id": "98886639",
   "metadata": {},
   "outputs": [],
   "source": [
    "import os\n",
    "from os import path\n",
    "import networkx as nx\n",
    "import ipycytoscape\n",
    "import pandas as pd\n",
    "\n",
    "BASEDIR = 'system'\n",
    "\n",
    "IGNORE_ENVS = [\"ignoreme\"]\n",
    "IGNORE_HOSTS = [\"ignoreme\"]\n",
    "\n",
    "envs = os.listdir(path='system')\n",
    "G=nx.Graph()\n",
    "G.add_node(BASEDIR, label=BASEDIR, category='system')\n",
    "system = list()\n",
    "\n",
    "for env in envs:\n",
    "    if env in IGNORE_ENVS:\n",
    "        continue\n",
    "    G.add_node(env, label=env, category=\"environment\")\n",
    "    G.add_edge(BASEDIR, env)\n",
    "    hosts = os.listdir(path=path.join(BASEDIR, env))\n",
    "    for host in hosts:\n",
    "        if host in IGNORE_HOSTS:\n",
    "            continue\n",
    "        G.add_node(host, label=host, category=\"host\")\n",
    "        G.add_edge(env, host)\n",
    "        processes = os.listdir(path=path.join(BASEDIR, env, host, 'bin'))\n",
    "        for instance in processes:\n",
    "            proc = f\"{env}_{host}_{instance}\"\n",
    "            proctype = instance.rstrip(\"1234567890\")\n",
    "            G.add_node(proc, label=f\"{instance}\", category=\"instance\")\n",
    "            G.add_edge(host, proc)\n",
    "            row = {'system': BASEDIR, 'environment': env, 'host': host, 'process': proctype, 'instance': instance}\n",
    "            system.append(row)\n"
   ]
  },
  {
   "cell_type": "code",
   "execution_count": null,
   "id": "d4578f0b",
   "metadata": {},
   "outputs": [],
   "source": [
    "df = pd.DataFrame(system)\n",
    "df.head()"
   ]
  },
  {
   "cell_type": "code",
   "execution_count": null,
   "id": "6bef6834",
   "metadata": {},
   "outputs": [],
   "source": [
    "df.groupby(['system', 'environment', 'process'])['instance'].count()"
   ]
  },
  {
   "cell_type": "code",
   "execution_count": null,
   "id": "fbfb6996",
   "metadata": {},
   "outputs": [],
   "source": [
    "df.groupby(['process'])['instance'].count()"
   ]
  },
  {
   "cell_type": "code",
   "execution_count": null,
   "id": "0c864946",
   "metadata": {},
   "outputs": [],
   "source": []
  },
  {
   "cell_type": "code",
   "execution_count": null,
   "id": "99f039e1",
   "metadata": {},
   "outputs": [],
   "source": []
  },
  {
   "cell_type": "code",
   "execution_count": null,
   "id": "493c85aa",
   "metadata": {},
   "outputs": [],
   "source": []
  },
  {
   "cell_type": "code",
   "execution_count": null,
   "id": "0a735905",
   "metadata": {},
   "outputs": [],
   "source": [
    "G.nodes(data=True)\n",
    "cytoscape_obj = ipycytoscape.CytoscapeWidget()\n",
    "cytoscape_obj.graph.add_graph_from_networkx(G, directed=True)\n",
    "cytoscape_obj.set_style(\n",
    "    [\n",
    "        {\n",
    "            'selector': 'node',\n",
    "            'style': {\n",
    "                'font-family': 'helvetica',\n",
    "                'font-size': 'data(fontsize)',\n",
    "                'label': 'data(label)',\n",
    "                'background-color': 'lightblue',\n",
    "                \"text-valign\": \"center\",\n",
    "                \"text-halign\": \"center\",\n",
    "            }\n",
    "        },\n",
    "        {\n",
    "            \"selector\": \"edge.directed\",\n",
    "            \"style\": {\n",
    "                \"curve-style\": \"bezier\",\n",
    "                \"target-arrow-shape\": \"triangle\"\n",
    "            },\n",
    "        }\n",
    "    ]\n",
    ")\n",
    "cytoscape_obj"
   ]
  },
  {
   "cell_type": "code",
   "execution_count": null,
   "id": "8abc2d87",
   "metadata": {},
   "outputs": [],
   "source": []
  },
  {
   "cell_type": "code",
   "execution_count": null,
   "id": "60f0cc75",
   "metadata": {},
   "outputs": [],
   "source": []
  }
 ],
 "metadata": {
  "kernelspec": {
   "display_name": "Python 3 (ipykernel)",
   "language": "python",
   "name": "python3"
  },
  "language_info": {
   "codemirror_mode": {
    "name": "ipython",
    "version": 3
   },
   "file_extension": ".py",
   "mimetype": "text/x-python",
   "name": "python",
   "nbconvert_exporter": "python",
   "pygments_lexer": "ipython3",
   "version": "3.10.0"
  }
 },
 "nbformat": 4,
 "nbformat_minor": 5
}
